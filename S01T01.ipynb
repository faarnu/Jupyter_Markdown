{
 "cells": [
  {
   "cell_type": "code",
   "execution_count": 1,
   "id": "460f6d80",
   "metadata": {},
   "outputs": [
    {
     "data": {
      "text/plain": [
       "5"
      ]
     },
     "execution_count": 1,
     "metadata": {},
     "output_type": "execute_result"
    }
   ],
   "source": [
    "#Variable assignment\n",
    "x=5\n",
    "x"
   ]
  },
  {
   "cell_type": "code",
   "execution_count": 2,
   "id": "b18af31e",
   "metadata": {},
   "outputs": [
    {
     "data": {
      "text/plain": [
       "7"
      ]
     },
     "execution_count": 2,
     "metadata": {},
     "output_type": "execute_result"
    }
   ],
   "source": [
    "#Calculations with variables\n",
    "\n",
    "x+2 #sum of two variables"
   ]
  },
  {
   "cell_type": "markdown",
   "id": "2648ebda",
   "metadata": {},
   "source": [
    "# Título\n",
    "\n",
    "## Subtítulo\n",
    "\n",
    "**Descripción**\n",
    "\n",
    "Texto de la descripción\n",
    "\n",
    "**Lista**\n",
    "\n",
    "1. Primer elemento de la lista\n",
    "2. Segundo elemento de la lista\n",
    "3. Tercer elemnto de la lista"
   ]
  },
  {
   "cell_type": "markdown",
   "id": "fcc4fea1",
   "metadata": {},
   "source": [
    "<img src=\"https://sp-ao.shortpixel.ai/client/to_auto,q_glossy,ret_img,w_582/https://www.analytics.cl/wp-content/uploads/2019/02/Data-Science-_-Evolucion.jpg\">"
   ]
  },
  {
   "cell_type": "code",
   "execution_count": null,
   "id": "71658893",
   "metadata": {},
   "outputs": [],
   "source": []
  }
 ],
 "metadata": {
  "kernelspec": {
   "display_name": "Python 3",
   "language": "python",
   "name": "python3"
  },
  "language_info": {
   "codemirror_mode": {
    "name": "ipython",
    "version": 3
   },
   "file_extension": ".py",
   "mimetype": "text/x-python",
   "name": "python",
   "nbconvert_exporter": "python",
   "pygments_lexer": "ipython3",
   "version": "3.8.5"
  }
 },
 "nbformat": 4,
 "nbformat_minor": 5
}
